{
 "cells": [
  {
   "cell_type": "code",
   "execution_count": null,
   "metadata": {
    "collapsed": true
   },
   "outputs": [],
   "source": [
    "#H0:P0-P1>-0\n",
    "#Ha:P0-P1<0\n",
    "#We want to know if the program participants are more likely to get jobs than the others after their release."
   ]
  },
  {
   "cell_type": "code",
   "execution_count": 1,
   "metadata": {
    "collapsed": false
   },
   "outputs": [
    {
     "name": "stdout",
     "output_type": "stream",
     "text": [
      "Populating the interactive namespace from numpy and matplotlib\n"
     ]
    }
   ],
   "source": [
    "import os\n",
    "import sys\n",
    "import numpy as np\n",
    "import pylab as pl\n",
    "import json\n",
    "import os\n",
    "%pylab inline"
   ]
  },
  {
   "cell_type": "code",
   "execution_count": 4,
   "metadata": {
    "collapsed": false
   },
   "outputs": [
    {
     "name": "stdout",
     "output_type": "stream",
     "text": [
      "0.527955806783\n"
     ]
    }
   ],
   "source": [
    "#z-test\n",
    "alpha = 0.05\n",
    "p_0 = 52.1*0.01\n",
    "p_1 = 53.3*0.01\n",
    "n_0 = 409\n",
    "n_1 = 564\n",
    "Nt_0 = p_0*n_0\n",
    "Nt_1 = p_1*n_1\n",
    "\n",
    "samplep = (p_0*n_0+p_1*n_1)/(n_1+n_0)\n",
    "print samplep\n"
   ]
  },
  {
   "cell_type": "code",
   "execution_count": 9,
   "metadata": {
    "collapsed": false
   },
   "outputs": [
    {
     "name": "stdout",
     "output_type": "stream",
     "text": [
      "0.521 409 564 0.0160151200397\n"
     ]
    }
   ],
   "source": [
    "samplep_sd = lambda p, n: np.sqrt(p*(1-p)/n)\n",
    "samplep_sd_3year = samplep_sd(p_0,n_0+n_1)\n",
    "print p_0, n_0, n_1, samplep_sd_3year"
   ]
  },
  {
   "cell_type": "code",
   "execution_count": 10,
   "metadata": {
    "collapsed": false
   },
   "outputs": [
    {
     "name": "stdout",
     "output_type": "stream",
     "text": [
      "0.749291917278\n"
     ]
    }
   ],
   "source": [
    "zscore = lambda p0, p1, s : (p0-p1)/s\n",
    "z_3y = zscore(p_1, p_0, samplep_sd_3year)\n",
    "print z_3y"
   ]
  },
  {
   "cell_type": "code",
   "execution_count": 11,
   "metadata": {
    "collapsed": false
   },
   "outputs": [
    {
     "name": "stdout",
     "output_type": "stream",
     "text": [
      "0.2266\n"
     ]
    }
   ],
   "source": [
    "#This z-score gives us a P=0.7734\n",
    "p_3year = 1-0.7734\n",
    "print p_3year"
   ]
  },
  {
   "cell_type": "code",
   "execution_count": 14,
   "metadata": {
    "collapsed": false
   },
   "outputs": [
    {
     "name": "stdout",
     "output_type": "stream",
     "text": [
      "the p-value 0.23 is larger than or equal to 0.05.\n",
      "Do not reject the Null Hypothesis\n"
     ]
    }
   ],
   "source": [
    "if p_3year > alpha:\n",
    "    print 'the p-value %0.2f is larger than or equal to %0.2f.' % (p_3year, alpha)\n",
    "    print 'Do not reject the Null Hypothesis'\n",
    "else:\n",
    "    print 'the p-value %0.2f is less than %0.2f.' % (p_3year, alpha)\n",
    "    print 'Reject the Null Hypothesis'"
   ]
  },
  {
   "cell_type": "code",
   "execution_count": 16,
   "metadata": {
    "collapsed": false
   },
   "outputs": [
    {
     "name": "stdout",
     "output_type": "stream",
     "text": [
      "1.58917936772\n"
     ]
    }
   ],
   "source": [
    "#chi2 test\n",
    "tot = 973\n",
    "expected = 564*409*131.6*841.4\n",
    "sample_values = [[14.7*0.01*564,85.3*0.01*564],[11.9*0.01*409,88.1*0.01*409]]\n",
    "chisqstat= lambda N, values, expect : N*((values[0][0]*values[1][1]-values[0][1]*values[1][0])**2)/(expect)\n",
    "\n",
    "chisq = chisqstat(tot,  sample_values, expected)\n",
    "\n",
    "print chisq"
   ]
  },
  {
   "cell_type": "code",
   "execution_count": 17,
   "metadata": {
    "collapsed": true
   },
   "outputs": [],
   "source": [
    "#alpha = 0.05 and the df = 1 so the critical value is 3.84\n",
    "# chi2 socre = 1.59 and it is less than 3.84 so we do not reject H0"
   ]
  },
  {
   "cell_type": "code",
   "execution_count": null,
   "metadata": {
    "collapsed": true
   },
   "outputs": [],
   "source": []
  }
 ],
 "metadata": {
  "kernelspec": {
   "display_name": "Python 2",
   "language": "python",
   "name": "python2"
  },
  "language_info": {
   "codemirror_mode": {
    "name": "ipython",
    "version": 2
   },
   "file_extension": ".py",
   "mimetype": "text/x-python",
   "name": "python",
   "nbconvert_exporter": "python",
   "pygments_lexer": "ipython2",
   "version": "2.7.10"
  }
 },
 "nbformat": 4,
 "nbformat_minor": 0
}
