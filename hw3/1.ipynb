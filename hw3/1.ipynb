{
 "cells": [
  {
   "cell_type": "code",
   "execution_count": null,
   "metadata": {
    "collapsed": true
   },
   "outputs": [],
   "source": [
    "from __future__ import print_function\n",
    "__author__ = \"xu\"\n",
    "\n",
    "import pylab as pl\n",
    "import numpy as np\n",
    "get_ipython().magic(u'pylab inline')\n",
    "\n",
    "mymean = 100\n",
    "distribution = {}\n",
    "distribution['chisq'] = np.random.chisquare(mymean,100)\n",
    "\n",
    "pl.hist(distribution['chisq'])\n",
    "\n",
    "print (distribution['chisq'].mean())\n",
    "print (distribution['chisq'].std())\n",
    "\n",
    "mysizes=2000/(np.array(range(1,90)+[10]))\n",
    "\n",
    "print (mysizes)\n",
    "\n",
    "distributions={'chisq':{}}\n",
    "for n in mysizes:\n",
    "    distributions['chisq'][n] = np.random.chisquare(mymean,n)\n",
    "means = {}\n",
    "means['chisq'] = {}\n",
    "\n",
    "fig_mu_N = pl.figure(figsize=(10,10))\n",
    "axchisq_mu_n = fig_mu_N.add_subplot(1,1,1)\n",
    "for nn in distributions['chisq']:\n",
    "    axchisq_mu_n.plot(nn, distributions['chisq'][nn].mean(),'o')\n",
    "    axchisq_mu_n.set_xlabel('sample size')\n",
    "    axchisq_mu_n.set_ylabel('sample mean')\n",
    "    axchisq_mu_n.plot([min(mysizes), max(mysizes)],[mymean,mymean],'k')"
   ]
  },
  {
   "cell_type": "code",
   "execution_count": null,
   "metadata": {
    "collapsed": true
   },
   "outputs": [],
   "source": [
    "mu=mymean\n",
    "sigma=0.1\n",
    "mymean = 100\n",
    "distribution = {}\n",
    "distribution['normal'] = np.random.normal(mu,sigma,100)\n",
    "\n",
    "pl.hist(distribution['normal'])\n",
    "\n",
    "print (distribution['normal'].mean())\n",
    "print (distribution['normal'].std())\n",
    "\n",
    "mysizes=2000/(np.array(range(1,90)+[10]))\n",
    "\n",
    "distributions={'normal':{}}\n",
    "for n in mysizes:\n",
    "    distributions['normal'][n] = np.random.normal(mu,sigma,100)\n",
    "\n",
    "\n",
    "means = {}\n",
    "means['normal'] = {}\n",
    "\n",
    "fig_mu_N = pl.figure(figsize=(10,10))\n",
    "axchisq_mu_n = fig_mu_N.add_subplot(1,1,1)\n",
    "for nn in distributions['normal']:\n",
    "    axchisq_mu_n.plot(nn, distributions['normal'][nn].mean(),'o')\n",
    "    axchisq_mu_n.set_xlabel('sample size')\n",
    "    axchisq_mu_n.set_ylabel('sample mean')\n",
    "    axchisq_mu_n.plot([min(mysizes), max(mysizes)],[mymean,mymean],'k')"
   ]
  },
  {
   "cell_type": "code",
   "execution_count": null,
   "metadata": {
    "collapsed": true
   },
   "outputs": [],
   "source": [
    "lam=mymean\n",
    "mymean = 100\n",
    "distribution = {}\n",
    "distribution['poisson'] = np.random.poisson(lam,100)\n",
    "\n",
    "pl.hist(distribution['poisson'])\n",
    "\n",
    "print (distribution['poisson'].mean())\n",
    "print (distribution['poisson'].std())\n",
    "\n",
    "mysizes=2000/(np.array(range(1,90)+[10]))\n",
    "\n",
    "distributions={'poisson':{}}\n",
    "for n in mysizes:\n",
    "    distributions['poisson'][n] = np.random.poisson(lam,100)\n",
    "\n",
    "\n",
    "means = {}\n",
    "means['poisson'] = {}\n",
    "\n",
    "fig_mu_N = pl.figure(figsize=(10,10))\n",
    "axchisq_mu_n = fig_mu_N.add_subplot(1,1,1)\n",
    "for nn in distributions['poisson']:\n",
    "    axchisq_mu_n.plot(nn, distributions['poisson'][nn].mean(),'o')\n",
    "    axchisq_mu_n.set_xlabel('sample size')\n",
    "    axchisq_mu_n.set_ylabel('sample mean')\n",
    "    axchisq_mu_n.plot([min(mysizes), max(mysizes)],[mymean,mymean],'k')"
   ]
  },
  {
   "cell_type": "code",
   "execution_count": null,
   "metadata": {
    "collapsed": true
   },
   "outputs": [],
   "source": [
    "distributions['binomial']={}\n",
    "\n",
    "p = 0.5\n",
    "n = mymean/p\n",
    "for n in mysizes:\n",
    "    distributions['binomial'][n] = np.random.binomial(n,p,100)\n",
    "\n",
    "means['binomial']={}\n",
    "fig_mu_N = plt.figure(figsize=(10,10))\n",
    "binomial_mu_N = fig_mu_N.add_subplot(111)\n",
    "for ii in distributions['binomial'].iterkeys():\n",
    "    means['binomial'][ii] = distributions['binomial'][ii].mean()\n",
    "    binomial_mu_N.plot(ii, means['binomial'][ii], 'o')\n",
    "    binomial_mu_N.set_xlabel('sample size')\n",
    "    binomial_mu_N.set_ylabel('sample mean')\n",
    "    binomial_mu_N.plot([min(mysizes), max(mysizes)], [mymean,mymean], 'k')"
   ]
  },
  {
   "cell_type": "code",
   "execution_count": null,
   "metadata": {
    "collapsed": true
   },
   "outputs": [],
   "source": [
    "distributions['log']={}\n",
    "\n",
    "loc = mymean\n",
    "scale = 1.0\n",
    "\n",
    "for n in mysizes: \n",
    "    distributions['log'][n] = np.random.logistic(loc,scale,n)\n",
    "    \n",
    "means['log']={}\n",
    "fig_mu_N = plt.figure(figsize=(10,10))\n",
    "log_mu_N = fig_mu_N.add_subplot(111)\n",
    "for nn in distributions['log'].iterkeys():\n",
    "    means['log'][nn] = distributions['log'][nn].mean()\n",
    "    log_mu_N.plot(nn, means['log'][nn], 'o')\n",
    "    log_mu_N.set_xlabel('sample size')\n",
    "    log_mu_N.set_ylabel('sample mean')\n",
    "    log_mu_N.plot([min(mysizes), max(mysizes)], [loc,loc], 'k')"
   ]
  },
  {
   "cell_type": "code",
   "execution_count": null,
   "metadata": {
    "collapsed": true
   },
   "outputs": [],
   "source": [
    "distributions['expo']={}\n",
    "\n",
    "\n",
    "for n in mysizes: \n",
    "    distributions['expo'][n] = np.random.exponential(mymean,n)\n",
    "    \n",
    "means['expo']={}\n",
    "fig_mu_N = plt.figure(figsize=(10,10))\n",
    "log_mu_N = fig_mu_N.add_subplot(111)\n",
    "for nn in distributions['expo'].iterkeys():\n",
    "    means['expo'][nn] = distributions['expo'][nn].mean()\n",
    "    log_mu_N.plot(nn, means['log'][nn], 'o')\n",
    "    log_mu_N.set_xlabel('sample size')\n",
    "    log_mu_N.set_ylabel('sample mean')\n",
    "    log_mu_N.plot([min(mysizes), max(mysizes)], [mymean,mymean], 'k')"
   ]
  },
  {
   "cell_type": "code",
   "execution_count": 1,
   "metadata": {
    "collapsed": false
   },
   "outputs": [
    {
     "ename": "NameError",
     "evalue": "name 'means' is not defined",
     "output_type": "error",
     "traceback": [
      "\u001b[0;31m---------------------------------------------------------------------------\u001b[0m",
      "\u001b[0;31mNameError\u001b[0m                                 Traceback (most recent call last)",
      "\u001b[0;32m<ipython-input-1-a851b6d54b94>\u001b[0m in \u001b[0;36m<module>\u001b[0;34m()\u001b[0m\n\u001b[1;32m      1\u001b[0m \u001b[0mallmeans\u001b[0m \u001b[0;34m=\u001b[0m \u001b[0;34m[\u001b[0m\u001b[0;34m]\u001b[0m\u001b[0;34m\u001b[0m\u001b[0m\n\u001b[1;32m      2\u001b[0m \u001b[0;34m\u001b[0m\u001b[0m\n\u001b[0;32m----> 3\u001b[0;31m \u001b[0;32mfor\u001b[0m \u001b[0mdistributions\u001b[0m \u001b[0;32min\u001b[0m \u001b[0mmeans\u001b[0m\u001b[0;34m:\u001b[0m\u001b[0;34m\u001b[0m\u001b[0m\n\u001b[0m\u001b[1;32m      4\u001b[0m     \u001b[0;32mfor\u001b[0m \u001b[0mn\u001b[0m \u001b[0;32min\u001b[0m \u001b[0mmeans\u001b[0m\u001b[0;34m[\u001b[0m\u001b[0mdistributions\u001b[0m\u001b[0;34m]\u001b[0m\u001b[0;34m:\u001b[0m\u001b[0;34m\u001b[0m\u001b[0m\n\u001b[1;32m      5\u001b[0m         \u001b[0mallmeans\u001b[0m\u001b[0;34m.\u001b[0m\u001b[0mappend\u001b[0m\u001b[0;34m(\u001b[0m\u001b[0mmeans\u001b[0m\u001b[0;34m[\u001b[0m\u001b[0mdistributions\u001b[0m\u001b[0;34m]\u001b[0m\u001b[0;34m[\u001b[0m\u001b[0mn\u001b[0m\u001b[0;34m]\u001b[0m\u001b[0;34m)\u001b[0m\u001b[0;34m\u001b[0m\u001b[0m\n",
      "\u001b[0;31mNameError\u001b[0m: name 'means' is not defined"
     ]
    }
   ],
   "source": [
    "allmeans = []\n",
    "\n",
    "for distributions in means:\n",
    "    for n in means[distributions]:\n",
    "        allmeans.append(means[distributions][n])\n",
    "\n",
    "pl.figure(figsize=(10,5))\n",
    "pl.hist(allmeans,bins=30)\n",
    "pl.xlabel('Sample Mean')\n",
    "pl.ylabel('N')"
   ]
  },
  {
   "cell_type": "code",
   "execution_count": null,
   "metadata": {
    "collapsed": true
   },
   "outputs": [],
   "source": []
  }
 ],
 "metadata": {
  "kernelspec": {
   "display_name": "Python 2",
   "language": "python",
   "name": "python2"
  },
  "language_info": {
   "codemirror_mode": {
    "name": "ipython",
    "version": 2
   },
   "file_extension": ".py",
   "mimetype": "text/x-python",
   "name": "python",
   "nbconvert_exporter": "python",
   "pygments_lexer": "ipython2",
   "version": "2.7.10"
  }
 },
 "nbformat": 4,
 "nbformat_minor": 0
}
