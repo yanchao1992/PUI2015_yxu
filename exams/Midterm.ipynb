{
 "cells": [
  {
   "cell_type": "code",
   "execution_count": 232,
   "metadata": {
    "collapsed": true
   },
   "outputs": [],
   "source": [
    "__author__= 'Ramda Yanurzha - ry692@nyu.edu'"
   ]
  },
  {
   "cell_type": "code",
   "execution_count": 233,
   "metadata": {
    "collapsed": false
   },
   "outputs": [
    {
     "name": "stdout",
     "output_type": "stream",
     "text": [
      "Populating the interactive namespace from numpy and matplotlib\n"
     ]
    }
   ],
   "source": [
    "#importing libraries\n",
    "import pylab as pl\n",
    "import pandas as pd\n",
    "import numpy as np\n",
    "import scipy.stats\n",
    "import csv\n",
    "import json\n",
    "import urllib2\n",
    "import geopandas as gp\n",
    "%pylab inline"
   ]
  },
  {
   "cell_type": "code",
   "execution_count": 234,
   "metadata": {
    "collapsed": false
   },
   "outputs": [
    {
     "name": "stdout",
     "output_type": "stream",
     "text": [
      "{u'344': 11216, u'345': 10011, u'346': 10014, u'347': 10014, u'340': 10002, u'341': 10002, u'342': 10002, u'343': 11251, u'348': 10012, u'349': 10002, u'478': 10036, u'298': 11217, u'296': 10002, u'297': 10003, u'294': 10003, u'295': 10002, u'293': 10003, u'290': 10022, u'291': 10002, u'195': 10005, u'270': 11205, u'3141': 10065, u'3142': 10065, u'274': 11217, u'275': 11238, u'276': 10013, u'3147': 10028, u'3148': 10028, u'279': 10038, u'524': 10036, u'525': 10001, u'526': 10016, u'527': 10016, u'520': 10019, u'521': 10001, u'522': 10022, u'523': 10018, u'528': 10016, u'529': 10036, u'449': 10019, u'448': 10018, u'443': 11211, u'442': 10001, u'441': 10022, u'440': 10017, u'447': 10019, u'446': 10001, u'445': 10009, u'444': 10010, u'3092': 11211, u'3093': 11211, u'3090': 11211, u'3091': 11211, u'3097': 11222, u'438': 10003, u'439': 10003, u'436': 11216, u'437': 11216, u'3098': 11222, u'435': 10011, u'432': 10009, u'433': 10009, u'430': 11201, u'431': 11201, u'339': 10009, u'335': 10003, u'334': 10011, u'337': 10005, u'336': 10012, u'331': 10002, u'330': 10007, u'332': 10002, u'238': 10014, u'239': 11201, u'3063': 11206, u'3062': 11206, u'3061': 11206, u'3060': 11206, u'3067': 11206, u'3066': 11206, u'3065': 11206, u'3064': 11206, u'236': 10003, u'237': 10003, u'3069': 11206, u'232': 11201, u'233': 11201, u'3068': 11206, u'146': 10013, u'147': 10007, u'144': 11201, u'143': 11201, u'3119': 11101, u'3118': 11222, u'3117': 11222, u'3115': 11222, u'3114': 11222, u'3113': 11222, u'3112': 11222, u'3111': 11222, u'3110': 11222, u'137': 10022, u'499': 10023, u'494': 10001, u'495': 10036, u'496': 10003, u'497': 10003, u'490': 10001, u'491': 10010, u'492': 10001, u'493': 10036, u'407': 11201, u'406': 11201, u'405': 10014, u'404': 10014, u'403': 10003, u'402': 10010, u'401': 10002, u'400': 10002, u'2017': 10017, u'2010': 10013, u'409': 11205, u'2012': 10016, u'379': 10001, u'373': 11205, u'372': 11205, u'375': 10012, u'377': 10013, u'376': 10038, u'393': 10009, u'392': 11201, u'391': 11201, u'390': 11201, u'397': 11238, u'396': 11238, u'395': 11217, u'394': 10009, u'82': 10038, u'83': 11217, u'399': 11205, u'398': 11201, u'245': 11201, u'244': 11205, u'247': 10014, u'3150': 10028, u'241': 11201, u'3156': 10021, u'243': 11217, u'242': 11205, u'3159': 10023, u'3158': 10023, u'249': 10013, u'248': 10013, u'224': 10038, u'3016': 10021, u'3014': 11211, u'519': 10017, u'518': 10016, u'511': 10009, u'510': 10019, u'513': 10019, u'512': 10001, u'515': 10036, u'514': 10019, u'517': 10017, u'516': 10017, u'458': 10001, u'459': 10011, u'450': 10019, u'453': 10011, u'454': 10022, u'455': 10017, u'456': 10022, u'457': 10019, u'174': 10016, u'173': 10019, u'3088': 11211, u'3085': 11211, u'3084': 11211, u'3087': 11211, u'3086': 11211, u'3081': 11211, u'3080': 11211, u'3083': 11211, u'3082': 11211, u'3140': 10075, u'271': 11217, u'2021': 10036, u'2022': 10022, u'2023': 10022, u'3144': 10028, u'3145': 10028, u'3146': 10028, u'278': 11201, u'3149': 10028, u'3232': 11201, u'3230': 10001, u'3231': 10065, u'322': 11201, u'323': 11201, u'320': 10013, u'321': 11201, u'326': 10003, u'327': 10282, u'324': 11201, u'325': 10003, u'328': 10013, u'329': 10013, u'72': 10019, u'3058': 11221, u'3059': 11206, u'3056': 11216, u'3057': 11221, u'3054': 11221, u'3055': 11216, u'3052': 11221, u'3053': 11216, u'3050': 11221, u'3070': 11206, u'3071': 11206, u'266': 10009, u'229': 10012, u'228': 10017, u'3079': 11206, u'3128': 11101, u'3129': 11101, u'3123': 11101, u'3120': 11101, u'3121': 11101, u'3126': 11101, u'3127': 11101, u'3124': 11101, u'3125': 11101, u'540': 10016, u'546': 10016, u'545': 10010, u'120': 11238, u'127': 10014, u'128': 10014, u'414': 11201, u'415': 10005, u'416': 11205, u'417': 10007, u'410': 10002, u'411': 10009, u'412': 10002, u'498': 10001, u'418': 11201, u'419': 11205, u'319': 10007, u'318': 10017, u'313': 11205, u'312': 10002, u'311': 10002, u'310': 11201, u'317': 10009, u'316': 10038, u'315': nan, u'314': 11201, u'368': 10014, u'369': 10011, u'366': 11205, u'367': 10022, u'364': 11205, u'365': 11238, u'362': 10018, u'363': 10280, u'360': 10005, u'361': 10002, u'380': 10014, u'382': 10003, u'383': 10011, u'384': 11238, u'385': 10022, u'386': 10007, u'387': 10007, u'388': 10001, u'389': 11211, u'258': 11205, u'259': 10004, u'3002': 10281, u'252': 10011, u'253': 10011, u'250': 10012, u'251': 10012, u'257': 10013, u'254': 10011, u'255': 11220, u'508': 10036, u'509': 10011, u'507': 10010, u'504': 10009, u'505': 10001, u'502': 10002, u'503': 10003, u'500': 10019, u'501': 10016, u'469': 10019, u'468': 10019, u'465': 10036, u'464': 10022, u'467': 11217, u'466': 10010, u'461': 10003, u'460': 11211, u'463': 10011, u'462': 10011, u'168': 10011, u'164': 10017, u'167': 10016, u'160': 10016, u'161': 10012, u'408': 10002, u'3180': 11201, u'3181': 10004, u'3182': 10004, u'3094': 11211, u'3095': 11222, u'434': 10011, u'263': 10013, u'262': 11201, u'3224': 10014, u'3226': 10024, u'3221': 11101, u'261': 11201, u'3223': 10022, u'3222': 11217, u'357': 10003, u'356': 10002, u'355': 10013, u'354': 11205, u'353': 11217, u'352': 10019, u'351': 10005, u'350': 10002, u'359': 10017, u'358': 10014, u'216': 11201, u'217': 11201, u'212': 10011, u'265': 10002, u'264': 10005, u'218': 11201, u'3049': 11238, u'3048': 11216, u'3041': 11216, u'3043': 11233, u'3042': 11233, u'3044': 11216, u'3047': 11216, u'3046': 11216, u'289': 11238, u'281': 10019, u'280': 10003, u'282': 11211, u'285': 10003, u'284': 10014, u'3135': 10021, u'3134': 10065, u'3137': 83, u'260': 10004, u'267': 10018, u'3130': 11101, u'3133': 10065, u'3132': 10022, u'268': 10013, u'3139': 10021, u'537': 10010, u'536': 10016, u'534': 10004, u'533': 10018, u'532': 11211, u'531': 10002, u'530': 10019, u'539': 11211, u'538': 10017, u'3169': 10024, u'3166': 10023, u'116': 10011, u'3167': 10023, u'119': 11205, u'3164': 10023, u'3165': 83, u'3163': 83, u'428': 10003, u'3160': 83, u'421': 11205, u'420': 11238, u'423': 10019, u'422': 10019, u'427': 10004, u'426': 10013, u'308': 10038, u'309': 10007, u'300': 10003, u'301': 10009, u'302': 10009, u'303': 10012, u'304': 10004, u'305': 10022, u'306': 10038, u'307': 10002, u'79': 10013, u'3179': 11206, u'3178': 10023, u'3072': 11206, u'3073': 11211, u'3074': 11206, u'3075': 11211, u'3076': 11206, u'3077': 11211, u'3170': 10024, u'225': 10014, u'3172': 10023, u'223': 10011, u'3177': 10024, u'3176': 10023, u'470': 10011, u'3136': 83, u'151': 10012, u'150': 10009, u'153': 10016, u'152': 10007, u'157': 11201, u'472': 10016, u'3108': 11222, u'3109': 11222, u'473': 10002, u'3104': 11211, u'3105': 11222, u'3106': 11222, u'3107': 11222, u'3101': 11222, u'3102': 11222, u'3103': 11211, u'471': 11211, u'3175': 10023, u'476': 10016, u'474': 10016, u'475': 10003, u'489': 10001, u'488': 10018, u'487': 10009, u'486': 10001, u'485': 10018, u'484': 10036, u'483': 10003, u'482': 10011, u'481': 11211, u'480': 10019, u'479': 10036, u'2002': 11211, u'2003': 10009, u'2000': 11201, u'2001': 11251, u'2006': 83, u'477': 10018, u'2004': 10013, u'2005': 11251, u'2008': 10280, u'2009': 10038}\n"
     ]
    }
   ],
   "source": [
    "#read json\n",
    "url=\"http://cosmo.nyu.edu/~fb55/UI_CUSP_2015/data/stationzips.json\"\n",
    "response = urllib2.urlopen(url)\n",
    "stationzip = json.load(response)\n",
    "print stationzip"
   ]
  },
  {
   "cell_type": "code",
   "execution_count": 235,
   "metadata": {
    "collapsed": false
   },
   "outputs": [
    {
     "name": "stdout",
     "output_type": "stream",
     "text": [
      "0     10002\n",
      "1     10013\n",
      "2     10014\n",
      "3     10014\n",
      "4     10012\n",
      "5     10024\n",
      "6     10012\n",
      "7     10003\n",
      "8     10013\n",
      "9     10014\n",
      "10    10003\n",
      "11    10001\n",
      "12    10013\n",
      "13    10013\n",
      "14    10007\n",
      "15    10014\n",
      "16    10002\n",
      "17    10002\n",
      "18    10003\n",
      "19    10003\n",
      "Name: ZipCode, dtype: int64\n"
     ]
    }
   ],
   "source": [
    "#importing pluto with geopanda\n",
    "pluto = gp.GeoDataFrame.from_file(\"Manhattan/MNMapPLUTO.shp\")\n",
    "print pluto['ZipCode'].head(20)"
   ]
  },
  {
   "cell_type": "code",
   "execution_count": 236,
   "metadata": {
    "collapsed": false
   },
   "outputs": [
    {
     "name": "stdout",
     "output_type": "stream",
     "text": [
      "Index([    u'APPBBL',    u'APPDate',    u'Address', u'AllZoning1',\n",
      "       u'AllZoning2', u'AreaSource', u'AssessLand',  u'AssessTot',\n",
      "              u'BBL',   u'BldgArea',  u'BldgClass',  u'BldgDepth',\n",
      "        u'BldgFront',      u'Block',   u'BoroCode',    u'Borough',\n",
      "         u'BsmtCode',  u'BuiltCode',   u'BuiltFAR',     u'CB2010',\n",
      "               u'CD',     u'CT2010',    u'ComArea',    u'CommFAR',\n",
      "          u'CondoNo',    u'Council',  u'EDesigNum',  u'Easements',\n",
      "       u'ExemptLand',  u'ExemptTot',        u'Ext',   u'FacilFAR',\n",
      "       u'FactryArea',   u'FireComp', u'GarageArea', u'HealthArea',\n",
      "         u'HistDist', u'IrrLotCode',    u'LandUse',   u'Landmark',\n",
      "              u'Lot',    u'LotArea',   u'LotDepth',   u'LotFront',\n",
      "          u'LotType',  u'LtdHeight', u'MAPPLUTO_F',   u'NumBldgs',\n",
      "        u'NumFloors', u'OfficeArea',  u'OtherArea',   u'Overlay1',\n",
      "         u'Overlay2',  u'OwnerName',  u'OwnerType', u'PLUTOMapID',\n",
      "       u'PolicePrct',   u'ProxCode',    u'ResArea',   u'ResidFAR',\n",
      "       u'RetailArea', u'SHAPE_Area', u'SHAPE_Leng',    u'SPDist1',\n",
      "          u'SPDist2',    u'Sanborn', u'SchoolDist',  u'SplitZone',\n",
      "        u'StrgeArea',     u'TaxMap',  u'Tract2010',   u'UnitsRes',\n",
      "       u'UnitsTotal',    u'Version',     u'XCoord',     u'YCoord',\n",
      "       u'YearAlter1', u'YearAlter2',  u'YearBuilt',     u'ZMCode',\n",
      "          u'ZipCode',  u'ZoneDist1',  u'ZoneDist2',  u'ZoneDist3',\n",
      "        u'ZoneDist4',    u'ZoneMap',   u'geometry'],\n",
      "      dtype='object')\n"
     ]
    }
   ],
   "source": [
    "#check pluto column names\n",
    "print pluto.columns"
   ]
  },
  {
   "cell_type": "code",
   "execution_count": 237,
   "metadata": {
    "collapsed": true
   },
   "outputs": [],
   "source": [
    "#read citibike ride data, 3 months interval\n",
    "df_feb=pd.read_csv('201502-citibike-tripdata.csv')\n",
    "df_may=pd.read_csv('201505-citibike-tripdata.csv')\n",
    "df_aug=pd.read_csv('201508-citibike-tripdata.csv')"
   ]
  },
  {
   "cell_type": "code",
   "execution_count": 238,
   "metadata": {
    "collapsed": false
   },
   "outputs": [
    {
     "name": "stdout",
     "output_type": "stream",
     "text": [
      "Index([u'tripduration', u'starttime', u'stoptime', u'start station id',\n",
      "       u'start station name', u'start station latitude',\n",
      "       u'start station longitude', u'end station id', u'end station name',\n",
      "       u'end station latitude', u'end station longitude', u'bikeid',\n",
      "       u'usertype', u'birth year', u'gender'],\n",
      "      dtype='object')\n"
     ]
    }
   ],
   "source": [
    "#combining into one dataframe\n",
    "df_all = pd.concat([df_may,df_feb,df_aug])\n",
    "print df_all.columns"
   ]
  },
  {
   "cell_type": "code",
   "execution_count": 264,
   "metadata": {
    "collapsed": false
   },
   "outputs": [
    {
     "name": "stdout",
     "output_type": "stream",
     "text": [
      "0    10018\n",
      "1    10003\n",
      "2    10014\n",
      "3    10010\n",
      "4    10013\n",
      "Name: zipcode, dtype: float64\n"
     ]
    }
   ],
   "source": [
    "#creating a zipcode column in citibike dataframe\n",
    "df_all['zipcode'] = [stationzip[str(i)] for i in df_all['start station id']]\n",
    "print df_all['zipcode'].head(5)\n"
   ]
  },
  {
   "cell_type": "code",
   "execution_count": 265,
   "metadata": {
    "collapsed": false
   },
   "outputs": [
    {
     "name": "stdout",
     "output_type": "stream",
     "text": [
      "0          10018\n",
      "1          10003\n",
      "2          10014\n",
      "3          10010\n",
      "4          10013\n",
      "5          10003\n",
      "6          10002\n",
      "7          11211\n",
      "8          10013\n",
      "9          10003\n",
      "10         10017\n",
      "11         10014\n",
      "12         10017\n",
      "13         11238\n",
      "14         10016\n",
      "15         10009\n",
      "16         10022\n",
      "17         10017\n",
      "18         10010\n",
      "20         10011\n",
      "21         10003\n",
      "22         10010\n",
      "24         10017\n",
      "25         10019\n",
      "26         10003\n",
      "27         10003\n",
      "28         10003\n",
      "29         10003\n",
      "30         10019\n",
      "31         10003\n",
      "           ...  \n",
      "1179014    10019\n",
      "1179015    10018\n",
      "1179016    10017\n",
      "1179017    10003\n",
      "1179018    11217\n",
      "1179019    10011\n",
      "1179020    10281\n",
      "1179021    10003\n",
      "1179022    11211\n",
      "1179023    10011\n",
      "1179024    10016\n",
      "1179025    10003\n",
      "1179026    10003\n",
      "1179027    10019\n",
      "1179028    10016\n",
      "1179029    10281\n",
      "1179030    10001\n",
      "1179031    10017\n",
      "1179032    10001\n",
      "1179033    10007\n",
      "1179034    10012\n",
      "1179035    10014\n",
      "1179036    10014\n",
      "1179037    10001\n",
      "1179038    10003\n",
      "1179039    11101\n",
      "1179040    10016\n",
      "1179041    10012\n",
      "1179042    11211\n",
      "1179043    10016\n",
      "Name: zipcode, dtype: float64\n"
     ]
    }
   ],
   "source": [
    "print df_all['zipcode']"
   ]
  },
  {
   "cell_type": "code",
   "execution_count": 240,
   "metadata": {
    "collapsed": false,
    "scrolled": true
   },
   "outputs": [
    {
     "name": "stdout",
     "output_type": "stream",
     "text": [
      "zipcode\n",
      "10001    173975\n",
      "10002    131993\n",
      "10003    246511\n",
      "10004     27468\n",
      "10005     29853\n",
      "10007     62425\n",
      "10009    112908\n",
      "10010     85363\n",
      "10011    198061\n",
      "10012     98220\n",
      "10013    110927\n",
      "10014    150225\n",
      "10016    134582\n",
      "10017     88516\n",
      "10018     68872\n",
      "10019    150433\n",
      "10021      1039\n",
      "10022     60361\n",
      "10023     18908\n",
      "10036     90846\n",
      "10038     37066\n",
      "10065        60\n",
      "10280     17406\n",
      "10281      9374\n",
      "10282     17348\n",
      "11101      4763\n",
      "11201     81365\n",
      "11205     26177\n",
      "11206      1813\n",
      "11211     37891\n",
      "11216      3930\n",
      "11217     17001\n",
      "11220         6\n",
      "11221       215\n",
      "11222      6663\n",
      "11233        59\n",
      "11238     10924\n",
      "11251      1846\n",
      "Name: start station id, dtype: int64\n"
     ]
    },
    {
     "data": {
      "text/plain": [
       "<matplotlib.axes._subplots.AxesSubplot at 0x2eee4978>"
      ]
     },
     "execution_count": 240,
     "metadata": {},
     "output_type": "execute_result"
    },
    {
     "data": {
      "image/png": "[encoded data removed]",
      "text/plain": [
       "<matplotlib.figure.Figure at 0x2b8b8f98>"
      ]
     },
     "metadata": {},
     "output_type": "display_data"
    }
   ],
   "source": [
    "#noticed something, a zipcode of 83? removing it.\n",
    "df_all = df_all[df_all.zipcode != 83]\n",
    "ride_count = (df_all['start station id'].groupby(df_all['zipcode']).count())\n",
    "print ride_count\n",
    "ride_count.plot(kind='bar')"
   ]
  },
  {
   "cell_type": "code",
   "execution_count": 280,
   "metadata": {
    "collapsed": false
   },
   "outputs": [
    {
     "name": "stdout",
     "output_type": "stream",
     "text": [
      "53\n",
      "ZipCode\n",
      "10001    17940\n",
      "10002    34505\n",
      "10003    33598\n",
      "10004     2409\n",
      "10005     5567\n",
      "10006     2704\n",
      "10007     3732\n",
      "10009    33130\n",
      "10010    19835\n",
      "10011    35200\n",
      "10012    15412\n",
      "10013    15330\n",
      "10014    22710\n",
      "10016    38272\n",
      "10017    12625\n",
      "10018     5677\n",
      "10019    35836\n",
      "10020        0\n",
      "10021    30777\n",
      "10022    27676\n",
      "10023    41878\n",
      "10024    36569\n",
      "10025    47955\n",
      "10026    15911\n",
      "10027    28209\n",
      "10028    30820\n",
      "10029    34917\n",
      "10030    13540\n",
      "10031    22237\n",
      "10032    21844\n",
      "10033    20141\n",
      "10034    15698\n",
      "10035    16438\n",
      "10036    20938\n",
      "10037    10955\n",
      "10038    11716\n",
      "10039    11433\n",
      "10040    16048\n",
      "10044    11257\n",
      "10065    22873\n",
      "10069     4741\n",
      "10075    18117\n",
      "10103       61\n",
      "10111        0\n",
      "10112        0\n",
      "10119        0\n",
      "10123        0\n",
      "10128    35067\n",
      "10129      192\n",
      "10280     5474\n",
      "10281        0\n",
      "10282     3157\n",
      "10463     3118\n",
      "Name: UnitsRes, dtype: int64\n"
     ]
    }
   ],
   "source": [
    "#removing zipcode of 0 in pluto dataframe\n",
    "pluto = pluto[pluto.ZipCode != 0]\n",
    "#group by zipcode, sum the residential units\n",
    "bunit_zip = (pluto['UnitsRes'].groupby(pluto['ZipCode']).sum())\n",
    "print len(pluto['ZipCode'].unique())\n",
    "print bunit_zip.head(60)"
   ]
  },
  {
   "cell_type": "code",
   "execution_count": 266,
   "metadata": {
    "collapsed": false
   },
   "outputs": [
    {
     "data": {
      "text/plain": [
       "<matplotlib.axes._subplots.AxesSubplot at 0x26937da0>"
      ]
     },
     "execution_count": 266,
     "metadata": {},
     "output_type": "execute_result"
    },
    {
     "data": {
      "image/png": "[encoded data removed]",
      "text/plain": [
       "<matplotlib.figure.Figure at 0x3c7b6a90>"
      ]
     },
     "metadata": {},
     "output_type": "display_data"
    }
   ],
   "source": [
    "bunit_zip.plot(kind='bar')"
   ]
  },
  {
   "cell_type": "code",
   "execution_count": 242,
   "metadata": {
    "collapsed": false
   },
   "outputs": [
    {
     "name": "stdout",
     "output_type": "stream",
     "text": [
      "       unitsres  ridescount\n",
      "10001     17940      173975\n",
      "10002     34505      131993\n",
      "10003     33598      246511\n",
      "10004      2409       27468\n",
      "10005      5567       29853\n",
      "10006      2704         NaN\n",
      "10007      3732       62425\n",
      "10009     33130      112908\n",
      "10010     19835       85363\n",
      "10011     35200      198061\n",
      "10012     15412       98220\n",
      "10013     15330      110927\n",
      "10014     22710      150225\n",
      "10016     38272      134582\n",
      "10017     12625       88516\n",
      "10018      5677       68872\n",
      "10019     35836      150433\n",
      "10020         0         NaN\n",
      "10021     30777        1039\n",
      "10022     27676       60361\n",
      "10023     41878       18908\n",
      "10024     36569         NaN\n",
      "10025     47955         NaN\n",
      "10026     15911         NaN\n",
      "10027     28209         NaN\n",
      "10028     30820         NaN\n",
      "10029     34917         NaN\n",
      "10030     13540         NaN\n",
      "10031     22237         NaN\n",
      "10032     21844         NaN\n",
      "...         ...         ...\n",
      "10039     11433         NaN\n",
      "10040     16048         NaN\n",
      "10044     11257         NaN\n",
      "10065     22873          60\n",
      "10069      4741         NaN\n",
      "10075     18117         NaN\n",
      "10103        61         NaN\n",
      "10111         0         NaN\n",
      "10112         0         NaN\n",
      "10119         0         NaN\n",
      "10123         0         NaN\n",
      "10128     35067         NaN\n",
      "10129       192         NaN\n",
      "10280      5474       17406\n",
      "10281         0        9374\n",
      "10282      3157       17348\n",
      "10463      3118         NaN\n",
      "11101       NaN        4763\n",
      "11201       NaN       81365\n",
      "11205       NaN       26177\n",
      "11206       NaN        1813\n",
      "11211       NaN       37891\n",
      "11216       NaN        3930\n",
      "11217       NaN       17001\n",
      "11220       NaN           6\n",
      "11221       NaN         215\n",
      "11222       NaN        6663\n",
      "11233       NaN          59\n",
      "11238       NaN       10924\n",
      "11251       NaN        1846\n",
      "\n",
      "[66 rows x 2 columns]\n"
     ]
    }
   ],
   "source": [
    "rides_zip = pd.concat([bunit_zip,ride_count],axis=1)\n",
    "rides_zip.columns = ['unitsres','ridescount']\n",
    "print rides_zip"
   ]
  },
  {
   "cell_type": "code",
   "execution_count": null,
   "metadata": {
    "collapsed": true
   },
   "outputs": [],
   "source": [
    "#scatterplot of the new dataframe of just number of units and rides per zipcode\n",
    "fig = figure(figsize=(15,15))\n",
    "rides_zip.plot(kind='scatter',x='unitsres',y='ridescount')"
   ]
  },
  {
   "cell_type": "markdown",
   "metadata": {},
   "source": [
    "###Regression\n",
    "\n",
    "null hypothesis: the number of residential unit has no effect on number of citibike rides"
   ]
  },
  {
   "cell_type": "code",
   "execution_count": 270,
   "metadata": {
    "collapsed": false,
    "scrolled": false
   },
   "outputs": [
    {
     "name": "stdout",
     "output_type": "stream",
     "text": [
      "                            OLS Regression Results                            \n",
      "==============================================================================\n",
      "Dep. Variable:             ridescount   R-squared:                       0.248\n",
      "Model:                            OLS   Adj. R-squared:                  0.215\n",
      "Method:                 Least Squares   F-statistic:                     7.586\n",
      "Date:                Wed, 21 Oct 2015   Prob (F-statistic):             0.0113\n",
      "Time:                        21:20:45   Log-Likelihood:                -308.91\n",
      "No. Observations:                  25   AIC:                             621.8\n",
      "Df Residuals:                      23   BIC:                             624.3\n",
      "Df Model:                           1                                         \n",
      "Covariance Type:            nonrobust                                         \n",
      "==============================================================================\n",
      "                 coef    std err          t      P>|t|      [95.0% Conf. Int.]\n",
      "------------------------------------------------------------------------------\n",
      "const       3.487e+04   2.16e+04      1.612      0.121     -9865.161  7.96e+04\n",
      "unitsres       2.5208      0.915      2.754      0.011         0.628     4.414\n",
      "==============================================================================\n",
      "Omnibus:                        0.982   Durbin-Watson:                   1.365\n",
      "Prob(Omnibus):                  0.612   Jarque-Bera (JB):                0.182\n",
      "Skew:                          -0.126   Prob(JB):                        0.913\n",
      "Kurtosis:                       3.335   Cond. No.                     4.36e+04\n",
      "==============================================================================\n",
      "\n",
      "Warnings:\n",
      "[1] Standard Errors assume that the covariance matrix of the errors is correctly specified.\n",
      "[2] The condition number is large, 4.36e+04. This might indicate that there are\n",
      "strong multicollinearity or other numerical problems.\n",
      "                            OLS Regression Results                            \n",
      "==============================================================================\n",
      "Dep. Variable:                      y   R-squared:                       0.295\n",
      "Model:                            OLS   Adj. R-squared:                  0.230\n",
      "Method:                 Least Squares   F-statistic:                     4.594\n",
      "Date:                Wed, 21 Oct 2015   Prob (F-statistic):             0.0215\n",
      "Time:                        21:20:45   Log-Likelihood:                -308.11\n",
      "No. Observations:                  25   AIC:                             622.2\n",
      "Df Residuals:                      22   BIC:                             625.9\n",
      "Df Model:                           2                                         \n",
      "Covariance Type:            nonrobust                                         \n",
      "================================================================================\n",
      "                   coef    std err          t      P>|t|      [95.0% Conf. Int.]\n",
      "--------------------------------------------------------------------------------\n",
      "Intercept     9555.6490      3e+04      0.319      0.753     -5.27e+04  7.18e+04\n",
      "x1               6.7236      3.603      1.866      0.075        -0.749    14.196\n",
      "I((x1) ** 2)    -0.0001   8.64e-05     -1.205      0.241        -0.000   7.5e-05\n",
      "==============================================================================\n",
      "Omnibus:                        1.253   Durbin-Watson:                   1.334\n",
      "Prob(Omnibus):                  0.535   Jarque-Bera (JB):                0.297\n",
      "Skew:                          -0.140   Prob(JB):                        0.862\n",
      "Kurtosis:                       3.455   Cond. No.                     2.00e+09\n",
      "==============================================================================\n",
      "\n",
      "Warnings:\n",
      "[1] Standard Errors assume that the covariance matrix of the errors is correctly specified.\n",
      "[2] The condition number is large,  2e+09. This might indicate that there are\n",
      "strong multicollinearity or other numerical problems.\n"
     ]
    }
   ],
   "source": [
    "#line fit\n",
    "import statsmodels.api as sm\n",
    "import statsmodels.formula.api as smf\n",
    "\n",
    "#setting independent variable\n",
    "X = sm.add_constant(rides_zip.unitsres)\n",
    "\n",
    "#1-degree polynomial\n",
    "fit1 = sm.OLS(rides_zip.ridescount, X, missing='drop').fit()\n",
    "llf1 = fit1.llf\n",
    "\n",
    "#2-degree polynomial\n",
    "curvemodel = smf.ols(formula = \"y ~ x1 + I((x1)**2) \", \n",
    "        data={'x1':rides_zip.unitsres,'y': rides_zip.ridescount}).fit()\n",
    "llf2 = fit2.llf\n",
    "\n",
    "#regression summary\n",
    "print fit1.summary()\n",
    "print curvemodel.summary()"
   ]
  },
  {
   "cell_type": "code",
   "execution_count": 268,
   "metadata": {
    "collapsed": false
   },
   "outputs": [
    {
     "name": "stdout",
     "output_type": "stream",
     "text": [
      "       unitsres  ridescount\n",
      "10001     17940      173975\n",
      "10002     34505      131993\n",
      "10003     33598      246511\n",
      "10004      2409       27468\n",
      "10005      5567       29853\n",
      "10007      3732       62425\n",
      "10009     33130      112908\n",
      "10010     19835       85363\n",
      "10011     35200      198061\n",
      "10012     15412       98220\n",
      "10013     15330      110927\n",
      "10014     22710      150225\n",
      "10016     38272      134582\n",
      "10017     12625       88516\n",
      "10018      5677       68872\n",
      "10019     35836      150433\n",
      "10021     30777        1039\n",
      "10022     27676       60361\n",
      "10023     41878       18908\n",
      "10036     20938       90846\n",
      "10038     11716       37066\n",
      "10065     22873          60\n",
      "10280      5474       17406\n",
      "10281         0        9374\n",
      "10282      3157       17348\n"
     ]
    },
    {
     "data": {
      "text/plain": [
       "<matplotlib.legend.Legend at 0x2b176cc0>"
      ]
     },
     "execution_count": 268,
     "metadata": {},
     "output_type": "execute_result"
    },
    {
     "data": {
      "image/png": "[encoded data removed]",
      "text/plain": [
       "<matplotlib.figure.Figure at 0x26e96400>"
      ]
     },
     "metadata": {},
     "output_type": "display_data"
    }
   ],
   "source": [
    "#removing NaN values so fit1 and dataframe have the same dimension for plot\n",
    "rd2 = rides_zip[np.isfinite(rides_zip['unitsres'])]\n",
    "rd2 = rd2[np.isfinite(rd2['ridescount'])]\n",
    "print rd2\n",
    "\n",
    "\n",
    "#plotting both\n",
    "pl.figure(figsize=(14, 14))\n",
    "pl.scatter(rides_zip.unitsres,rides_zip.ridescount)\n",
    "plot(rd2.unitsres, curvemodel.predict(), 'r.',label=\"2-degree\")\n",
    "plot(rd2.unitsres, fit1.predict(), 'g', label=\"1-degree\")\n",
    "pl.xlabel('Number of residential units',fontsize=20)\n",
    "pl.ylabel('Number of rides',fontsize=20)\n",
    "pl.legend()"
   ]
  },
  {
   "cell_type": "markdown",
   "metadata": {},
   "source": [
    "###Likelihood test\n",
    "Degree of freedom: 1\n",
    "significance value: 0.05\n",
    "\n",
    "Null hypothesis: line fit is better\n",
    "Doing both manual and compare_lr_test, chisq value for 0.05 = 3.84"
   ]
  },
  {
   "cell_type": "code",
   "execution_count": 251,
   "metadata": {
    "collapsed": false,
    "scrolled": true
   },
   "outputs": [
    {
     "name": "stdout",
     "output_type": "stream",
     "text": [
      "LR :  1.59829836645\n",
      "(1.598298366453605, 0.20614452379169013, 1.0)\n"
     ]
    }
   ],
   "source": [
    "print \"LR : \", -2 * (llf1-llf2)\n",
    "print curvemodel.compare_lr_test(fit1)\n",
    "#dof: 1, alpha = 0.05\n",
    "#based on chart, LR < chisq value\n",
    "#line fit is better"
   ]
  },
  {
   "cell_type": "markdown",
   "metadata": {},
   "source": [
    "##Findings\n",
    "\n",
    "1. Based on the likelihood test, 1-degree polynomial (a line) is a better fit for the regression\n",
    "2. With p-value of 0.011 in the chosen regression, the number of residential units is a good predictor\n",
    "\n",
    "###Improvement suggestion\n",
    "1. Expand the sample size to include Brooklyn since there are more residential areas there\n",
    "2. A zipcode is probably too big and a lot of citibikes station located not in residential but in commercial area esp. in manhattan\n",
    "3. Include only subscriber in the dataset\n",
    "4. Ideas of additional variable: median income in the neighborhood"
   ]
  },
  {
   "cell_type": "code",
   "execution_count": null,
   "metadata": {
    "collapsed": true
   },
   "outputs": [],
   "source": []
  }
 ],
 "metadata": {
  "kernelspec": {
   "display_name": "Python 2",
   "language": "python",
   "name": "python2"
  },
  "language_info": {
   "codemirror_mode": {
    "name": "ipython",
    "version": 2
   },
   "file_extension": ".py",
   "mimetype": "text/x-python",
   "name": "python",
   "nbconvert_exporter": "python",
   "pygments_lexer": "ipython2",
   "version": "2.7.10"
  }
 },
 "nbformat": 4,
 "nbformat_minor": 0
}
