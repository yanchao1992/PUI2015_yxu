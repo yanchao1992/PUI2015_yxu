{
 "cells": [
  {
   "cell_type": "code",
   "execution_count": 1,
   "metadata": {
    "collapsed": false
   },
   "outputs": [
    {
     "name": "stdout",
     "output_type": "stream",
     "text": [
      "Populating the interactive namespace from numpy and matplotlib\n"
     ]
    }
   ],
   "source": [
    "import os\n",
    "import pandas as pd\n",
    "import pylab as pl\n",
    "import numpy as np\n",
    "%pylab inline\n",
    "import scipy.stats"
   ]
  },
  {
   "cell_type": "code",
   "execution_count": 3,
   "metadata": {
    "collapsed": false
   },
   "outputs": [
    {
     "name": "stdout",
     "output_type": "stream",
     "text": [
      "Index([u'tripduration', u'starttime', u'stoptime', u'start station id',\n",
      "       u'start station name', u'start station latitude',\n",
      "       u'start station longitude', u'end station id', u'end station name',\n",
      "       u'end station latitude', u'end station longitude', u'bikeid',\n",
      "       u'usertype', u'birth year', u'gender'],\n",
      "      dtype='object')\n"
     ]
    }
   ],
   "source": [
    "#read csv citibike data\n",
    "df1 = pd.read_csv('201503-citibike-tripdata.csv')\n",
    "df2 = pd.read_csv('201508-citibike-tripdata.csv')\n",
    "frames = [df1, df2]\n",
    "df = pd.concat(frames)\n",
    "print df.columns"
   ]
  },
  {
   "cell_type": "code",
   "execution_count": 4,
   "metadata": {
    "collapsed": true
   },
   "outputs": [],
   "source": [
    "#read json data\n",
    "import urllib2\n",
    "import json"
   ]
  },
  {
   "cell_type": "code",
   "execution_count": 5,
   "metadata": {
    "collapsed": false
   },
   "outputs": [],
   "source": [
    "if __name__=='__main__':\n",
    "    url = 'http://cosmo.nyu.edu/~fb55/UI_CUSP_2015/data/stationzips.json' \n",
    "    request = urllib2.urlopen(url)\n",
    "    data = json.loads(request.read())\n",
    "    sid = data.keys"
   ]
  },
  {
   "cell_type": "code",
   "execution_count": 6,
   "metadata": {
    "collapsed": false
   },
   "outputs": [],
   "source": [
    "#read manhattan data\n",
    "import geopandas as gp\n",
    "bsize = gp.GeoDataFrame.from_file(\"Manhattan/MNMapPLUTO.shp\")"
   ]
  },
  {
   "cell_type": "code",
   "execution_count": 7,
   "metadata": {
    "collapsed": false
   },
   "outputs": [],
   "source": [
    "#match zipcode to csv file\n",
    "df['ZipCode'] = np.zeros(len(df['starttime']))\n",
    "stids = np.unique(df['start station id'])\n",
    "for sid in stids:\n",
    "    df.loc[df['start station id']==sid,'ZipCode'] = data[str(sid)]\n",
    "    \n",
    "   \n"
   ]
  },
  {
   "cell_type": "code",
   "execution_count": 8,
   "metadata": {
    "collapsed": false,
    "scrolled": true
   },
   "outputs": [],
   "source": [
    "myarray1 = (df['start station id'].groupby(df['ZipCode']).count())"
   ]
  },
  {
   "cell_type": "code",
   "execution_count": 9,
   "metadata": {
    "collapsed": false
   },
   "outputs": [],
   "source": [
    "myarray2 = (bsize['UnitsRes'].groupby(bsize['ZipCode']).sum())"
   ]
  },
  {
   "cell_type": "code",
   "execution_count": 10,
   "metadata": {
    "collapsed": false
   },
   "outputs": [],
   "source": [
    "#create a new dataframe\n",
    "mynewdf = pd.concat([myarray1,myarray2], axis=1,join='inner')"
   ]
  },
  {
   "cell_type": "code",
   "execution_count": 11,
   "metadata": {
    "collapsed": false,
    "scrolled": true
   },
   "outputs": [
    {
     "name": "stdout",
     "output_type": "stream",
     "text": [
      "         start station id  UnitsRes\n",
      "ZipCode                            \n",
      "10001              112915     17940\n",
      "10002               84301     34505\n",
      "10003              156206     33598\n",
      "10004               18521      2409\n",
      "10005               19425      5567\n",
      "10007               41079      3732\n",
      "10009               74139     33130\n",
      "10010               55544     19835\n",
      "10011              130030     35200\n",
      "10012               63309     15412\n",
      "10013               70172     15330\n",
      "10014               93772     22710\n",
      "10016               90529     38272\n",
      "10017               60462     12625\n",
      "10018               46196      5677\n",
      "10019               97761     35836\n",
      "10021                1039     30777\n",
      "10022               39863     27676\n",
      "10023               11980     41878\n",
      "10036               59724     20938\n",
      "10038               23482     11716\n",
      "10065                  60     22873\n",
      "10280               10983      5474\n",
      "10281                9986         0\n",
      "10282               10765      3157\n"
     ]
    }
   ],
   "source": [
    "print mynewdf"
   ]
  },
  {
   "cell_type": "markdown",
   "metadata": {},
   "source": [
    "#FBB: AXIS LABELS ARE ILLEGIBLY SMALL!"
   ]
  },
  {
   "cell_type": "code",
   "execution_count": 12,
   "metadata": {
    "collapsed": false
   },
   "outputs": [
    {
     "data": {
      "text/plain": [
       "<matplotlib.axes._subplots.AxesSubplot at 0x117c7fb10>"
      ]
     },
     "execution_count": 12,
     "metadata": {},
     "output_type": "execute_result"
    },
    {
     "data": {
      "text/plain": [
       "<matplotlib.figure.Figure at 0x15e172f90>"
      ]
     },
     "metadata": {},
     "output_type": "display_data"
    },
    {
     "data": {
      "image/png": "[encoded data removed]",
      "text/plain": [
       "<matplotlib.figure.Figure at 0x117c7f510>"
      ]
     },
     "metadata": {},
     "output_type": "display_data"
    }
   ],
   "source": [
    "#first plot\n",
    "fig = figure(figsize=(15,15))\n",
    "mynewdf.plot(kind='scatter', x='UnitsRes', y='start station id', marker='o', figsize=(15, 15))"
   ]
  },
  {
   "cell_type": "code",
   "execution_count": 14,
   "metadata": {
    "collapsed": true
   },
   "outputs": [],
   "source": [
    "#all imports should be at the top"
   ]
  },
  {
   "cell_type": "code",
   "execution_count": 15,
   "metadata": {
    "collapsed": true
   },
   "outputs": [],
   "source": [
    "import statsmodels.api as sm"
   ]
  },
  {
   "cell_type": "code",
   "execution_count": 16,
   "metadata": {
    "collapsed": false
   },
   "outputs": [],
   "source": [
    "mynewdf.rename(columns={'start station id':'riders'}, inplace=True)"
   ]
  },
  {
   "cell_type": "code",
   "execution_count": 17,
   "metadata": {
    "collapsed": false
   },
   "outputs": [],
   "source": [
    "x = mynewdf.UnitsRes\n",
    "y = mynewdf.riders"
   ]
  },
  {
   "cell_type": "code",
   "execution_count": 18,
   "metadata": {
    "collapsed": false
   },
   "outputs": [
    {
     "data": {
      "text/html": [
       "<table class=\"simpletable\">\n",
       "<caption>OLS Regression Results</caption>\n",
       "<tr>\n",
       "  <th>Dep. Variable:</th>         <td>riders</td>      <th>  R-squared:         </th> <td>   0.247</td>\n",
       "</tr>\n",
       "<tr>\n",
       "  <th>Model:</th>                   <td>OLS</td>       <th>  Adj. R-squared:    </th> <td>   0.214</td>\n",
       "</tr>\n",
       "<tr>\n",
       "  <th>Method:</th>             <td>Least Squares</td>  <th>  F-statistic:       </th> <td>   7.546</td>\n",
       "</tr>\n",
       "<tr>\n",
       "  <th>Date:</th>             <td>Sat, 31 Oct 2015</td> <th>  Prob (F-statistic):</th>  <td>0.0115</td> \n",
       "</tr>\n",
       "<tr>\n",
       "  <th>Time:</th>                 <td>11:30:31</td>     <th>  Log-Likelihood:    </th> <td> -297.80</td>\n",
       "</tr>\n",
       "<tr>\n",
       "  <th>No. Observations:</th>      <td>    25</td>      <th>  AIC:               </th> <td>   599.6</td>\n",
       "</tr>\n",
       "<tr>\n",
       "  <th>Df Residuals:</th>          <td>    23</td>      <th>  BIC:               </th> <td>   602.0</td>\n",
       "</tr>\n",
       "<tr>\n",
       "  <th>Df Model:</th>              <td>     1</td>      <th>                     </th>     <td> </td>   \n",
       "</tr>\n",
       "<tr>\n",
       "  <th>Covariance Type:</th>      <td>nonrobust</td>    <th>                     </th>     <td> </td>   \n",
       "</tr>\n",
       "</table>\n",
       "<table class=\"simpletable\">\n",
       "<tr>\n",
       "      <td></td>        <th>coef</th>     <th>std err</th>      <th>t</th>      <th>P>|t|</th> <th>[95.0% Conf. Int.]</th> \n",
       "</tr>\n",
       "<tr>\n",
       "  <th>const</th>    <td> 2.329e+04</td> <td> 1.39e+04</td> <td>    1.680</td> <td> 0.107</td> <td>-5393.377   5.2e+04</td>\n",
       "</tr>\n",
       "<tr>\n",
       "  <th>UnitsRes</th> <td>    1.6120</td> <td>    0.587</td> <td>    2.747</td> <td> 0.011</td> <td>    0.398     2.826</td>\n",
       "</tr>\n",
       "</table>\n",
       "<table class=\"simpletable\">\n",
       "<tr>\n",
       "  <th>Omnibus:</th>       <td> 1.030</td> <th>  Durbin-Watson:     </th> <td>   1.368</td>\n",
       "</tr>\n",
       "<tr>\n",
       "  <th>Prob(Omnibus):</th> <td> 0.597</td> <th>  Jarque-Bera (JB):  </th> <td>   0.243</td>\n",
       "</tr>\n",
       "<tr>\n",
       "  <th>Skew:</th>          <td>-0.189</td> <th>  Prob(JB):          </th> <td>   0.886</td>\n",
       "</tr>\n",
       "<tr>\n",
       "  <th>Kurtosis:</th>      <td> 3.299</td> <th>  Cond. No.          </th> <td>4.36e+04</td>\n",
       "</tr>\n",
       "</table>"
      ],
      "text/plain": [
       "<class 'statsmodels.iolib.summary.Summary'>\n",
       "\"\"\"\n",
       "                            OLS Regression Results                            \n",
       "==============================================================================\n",
       "Dep. Variable:                 riders   R-squared:                       0.247\n",
       "Model:                            OLS   Adj. R-squared:                  0.214\n",
       "Method:                 Least Squares   F-statistic:                     7.546\n",
       "Date:                Sat, 31 Oct 2015   Prob (F-statistic):             0.0115\n",
       "Time:                        11:30:31   Log-Likelihood:                -297.80\n",
       "No. Observations:                  25   AIC:                             599.6\n",
       "Df Residuals:                      23   BIC:                             602.0\n",
       "Df Model:                           1                                         \n",
       "Covariance Type:            nonrobust                                         \n",
       "==============================================================================\n",
       "                 coef    std err          t      P>|t|      [95.0% Conf. Int.]\n",
       "------------------------------------------------------------------------------\n",
       "const       2.329e+04   1.39e+04      1.680      0.107     -5393.377   5.2e+04\n",
       "UnitsRes       1.6120      0.587      2.747      0.011         0.398     2.826\n",
       "==============================================================================\n",
       "Omnibus:                        1.030   Durbin-Watson:                   1.368\n",
       "Prob(Omnibus):                  0.597   Jarque-Bera (JB):                0.243\n",
       "Skew:                          -0.189   Prob(JB):                        0.886\n",
       "Kurtosis:                       3.299   Cond. No.                     4.36e+04\n",
       "==============================================================================\n",
       "\n",
       "Warnings:\n",
       "[1] Standard Errors assume that the covariance matrix of the errors is correctly specified.\n",
       "[2] The condition number is large, 4.36e+04. This might indicate that there are\n",
       "strong multicollinearity or other numerical problems.\n",
       "\"\"\""
      ]
     },
     "execution_count": 18,
     "metadata": {},
     "output_type": "execute_result"
    }
   ],
   "source": [
    "#first degree model\n",
    "X = sm.add_constant(x)\n",
    "fit1 = sm.OLS(y, X, missing='drop').fit()\n",
    "fit1.summary()"
   ]
  },
  {
   "cell_type": "code",
   "execution_count": 29,
   "metadata": {
    "collapsed": false
   },
   "outputs": [
    {
     "data": {
      "text/plain": [
       "<matplotlib.text.Text at 0x15bbe84d0>"
      ]
     },
     "execution_count": 29,
     "metadata": {},
     "output_type": "execute_result"
    },
    {
     "data": {
      "image/png": "[encoded data removed]",
      "text/plain": [
       "<matplotlib.figure.Figure at 0x15bfb2510>"
      ]
     },
     "metadata": {},
     "output_type": "display_data"
    }
   ],
   "source": [
    "##what is this next line for????\n",
    "x.random = np.random.choice(x[~np.isnan(x)], len(y[~np.isnan(y)]), replace=False)\n",
    "pl.figure(figsize=(16, 14))\n",
    "pl.scatter(x, y)\n",
    "\n",
    "plot(X, fit1.predict(), 'k', label=\"fit Riders to UnitsRes\")\n",
    "pl.xlabel(\"UnitsRes\", fontsize=40)\n",
    "pl.ylabel(\"Riders\", fontsize=40)\n"
   ]
  },
  {
   "cell_type": "code",
   "execution_count": 20,
   "metadata": {
    "collapsed": false
   },
   "outputs": [
    {
     "data": {
      "text/html": [
       "<table class=\"simpletable\">\n",
       "<caption>OLS Regression Results</caption>\n",
       "<tr>\n",
       "  <th>Dep. Variable:</th>            <td>y</td>        <th>  R-squared:         </th> <td>   0.289</td>\n",
       "</tr>\n",
       "<tr>\n",
       "  <th>Model:</th>                   <td>OLS</td>       <th>  Adj. R-squared:    </th> <td>   0.224</td>\n",
       "</tr>\n",
       "<tr>\n",
       "  <th>Method:</th>             <td>Least Squares</td>  <th>  F-statistic:       </th> <td>   4.471</td>\n",
       "</tr>\n",
       "<tr>\n",
       "  <th>Date:</th>             <td>Sat, 31 Oct 2015</td> <th>  Prob (F-statistic):</th>  <td>0.0235</td> \n",
       "</tr>\n",
       "<tr>\n",
       "  <th>Time:</th>                 <td>11:30:38</td>     <th>  Log-Likelihood:    </th> <td> -297.08</td>\n",
       "</tr>\n",
       "<tr>\n",
       "  <th>No. Observations:</th>      <td>    25</td>      <th>  AIC:               </th> <td>   600.2</td>\n",
       "</tr>\n",
       "<tr>\n",
       "  <th>Df Residuals:</th>          <td>    22</td>      <th>  BIC:               </th> <td>   603.8</td>\n",
       "</tr>\n",
       "<tr>\n",
       "  <th>Df Model:</th>              <td>     2</td>      <th>                     </th>     <td> </td>   \n",
       "</tr>\n",
       "<tr>\n",
       "  <th>Covariance Type:</th>      <td>nonrobust</td>    <th>                     </th>     <td> </td>   \n",
       "</tr>\n",
       "</table>\n",
       "<table class=\"simpletable\">\n",
       "<tr>\n",
       "        <td></td>          <th>coef</th>     <th>std err</th>      <th>t</th>      <th>P>|t|</th> <th>[95.0% Conf. Int.]</th> \n",
       "</tr>\n",
       "<tr>\n",
       "  <th>Intercept</th>    <td> 7892.3586</td> <td> 1.93e+04</td> <td>    0.409</td> <td> 0.686</td> <td>-3.21e+04  4.79e+04</td>\n",
       "</tr>\n",
       "<tr>\n",
       "  <th>x1</th>           <td>    2.0846</td> <td>    1.158</td> <td>    1.800</td> <td> 0.086</td> <td>   -0.317     4.486</td>\n",
       "</tr>\n",
       "<tr>\n",
       "  <th>I((x1))</th>      <td>    2.0838</td> <td>    1.160</td> <td>    1.797</td> <td> 0.086</td> <td>   -0.321     4.489</td>\n",
       "</tr>\n",
       "<tr>\n",
       "  <th>I((x1) ** 2)</th> <td>-6.332e-05</td> <td> 5.56e-05</td> <td>   -1.140</td> <td> 0.267</td> <td>   -0.000  5.19e-05</td>\n",
       "</tr>\n",
       "</table>\n",
       "<table class=\"simpletable\">\n",
       "<tr>\n",
       "  <th>Omnibus:</th>       <td> 1.162</td> <th>  Durbin-Watson:     </th> <td>   1.342</td>\n",
       "</tr>\n",
       "<tr>\n",
       "  <th>Prob(Omnibus):</th> <td> 0.559</td> <th>  Jarque-Bera (JB):  </th> <td>   0.292</td>\n",
       "</tr>\n",
       "<tr>\n",
       "  <th>Skew:</th>          <td>-0.194</td> <th>  Prob(JB):          </th> <td>   0.864</td>\n",
       "</tr>\n",
       "<tr>\n",
       "  <th>Kurtosis:</th>      <td> 3.360</td> <th>  Cond. No.          </th> <td>2.11e+18</td>\n",
       "</tr>\n",
       "</table>"
      ],
      "text/plain": [
       "<class 'statsmodels.iolib.summary.Summary'>\n",
       "\"\"\"\n",
       "                            OLS Regression Results                            \n",
       "==============================================================================\n",
       "Dep. Variable:                      y   R-squared:                       0.289\n",
       "Model:                            OLS   Adj. R-squared:                  0.224\n",
       "Method:                 Least Squares   F-statistic:                     4.471\n",
       "Date:                Sat, 31 Oct 2015   Prob (F-statistic):             0.0235\n",
       "Time:                        11:30:38   Log-Likelihood:                -297.08\n",
       "No. Observations:                  25   AIC:                             600.2\n",
       "Df Residuals:                      22   BIC:                             603.8\n",
       "Df Model:                           2                                         \n",
       "Covariance Type:            nonrobust                                         \n",
       "================================================================================\n",
       "                   coef    std err          t      P>|t|      [95.0% Conf. Int.]\n",
       "--------------------------------------------------------------------------------\n",
       "Intercept     7892.3586   1.93e+04      0.409      0.686     -3.21e+04  4.79e+04\n",
       "x1               2.0846      1.158      1.800      0.086        -0.317     4.486\n",
       "I((x1))          2.0838      1.160      1.797      0.086        -0.321     4.489\n",
       "I((x1) ** 2) -6.332e-05   5.56e-05     -1.140      0.267        -0.000  5.19e-05\n",
       "==============================================================================\n",
       "Omnibus:                        1.162   Durbin-Watson:                   1.342\n",
       "Prob(Omnibus):                  0.559   Jarque-Bera (JB):                0.292\n",
       "Skew:                          -0.194   Prob(JB):                        0.864\n",
       "Kurtosis:                       3.360   Cond. No.                     2.11e+18\n",
       "==============================================================================\n",
       "\n",
       "Warnings:\n",
       "[1] Standard Errors assume that the covariance matrix of the errors is correctly specified.\n",
       "[2] The smallest eigenvalue is 3.35e-18. This might indicate that there are\n",
       "strong multicollinearity problems or that the design matrix is singular.\n",
       "\"\"\""
      ]
     },
     "execution_count": 20,
     "metadata": {},
     "output_type": "execute_result"
    },
    {
     "data": {
      "image/png": "[encoded data removed]",
      "text/plain": [
       "<matplotlib.figure.Figure at 0x14b3b4190>"
      ]
     },
     "metadata": {},
     "output_type": "display_data"
    }
   ],
   "source": [
    "#second degree model\n",
    "import statsmodels.formula.api as smf\n",
    "fit2 = smf.ols(formula = \"y ~ x1 + I((x1)) + I((x1)**2) \", \n",
    "        data={'x1':x,'y': y}).fit()\n",
    "pl.figure(figsize=(16, 14))\n",
    "pl.scatter(x, y)\n",
    "plot(x, fit2.predict(), 'k.')\n",
    "pl.xlabel(\"UnitsRes\", fontsize=40)\n",
    "pl.ylabel(\"Riders\", fontsize=40)\n",
    "fit2.summary()"
   ]
  },
  {
   "cell_type": "markdown",
   "metadata": {},
   "source": [
    "Based on the OLS results, the second degree model seems better since it has a higher R2. We can use likelihood test to compare two models since it is hierarchy models. "
   ]
  },
  {
   "cell_type": "code",
   "execution_count": 21,
   "metadata": {
    "collapsed": false
   },
   "outputs": [
    {
     "name": "stdout",
     "output_type": "stream",
     "text": [
      "1.43372170593\n"
     ]
    }
   ],
   "source": [
    "#Likelihood Test, compare first and second degree model\n",
    "#degrees of freedom =1, alpha=0.05, so chi2 value= 3.84\n",
    "#H0: the linear model is better\n",
    "llf1=fit1.llf\n",
    "llf2=fit2.llf\n",
    "like = -2*(llf1-llf2)\n",
    "print like"
   ]
  },
  {
   "cell_type": "markdown",
   "metadata": {},
   "source": [
    "Based on the likelihood test results, the critical value 1.434 is less than 3.84, so we do not reject H0 and thus conclude that the linear model is better."
   ]
  },
  {
   "cell_type": "markdown",
   "metadata": {},
   "source": [
    "Findigns: we can find that with the increase of unitsresidence, the ridership also increases, but only a little. Overall the models are not performing well because the R2 is a litter bit low. Thus there may not be a strong relationship between unitsresidence and citibike ridership in Manhattan.\n",
    "How to improve?\n",
    "Maybe we can import more data to imporve the models, such as Brooklyn residence vs ridership. Maybe it is a good idea to import rush hour times into the model since citibikes may be in high demand at this time of the day. Income level or education level may be good predictors to add. "
   ]
  },
  {
   "cell_type": "markdown",
   "metadata": {},
   "source": [
    "#FBB good work so far: everything is correct. You miss the analysis after removal of the outliers. "
   ]
  },
  {
   "cell_type": "markdown",
   "metadata": {
    "collapsed": true
   },
   "source": [
    "-2 \n",
    "\n",
    "8/10"
   ]
  },
  {
   "cell_type": "code",
   "execution_count": null,
   "metadata": {
    "collapsed": true
   },
   "outputs": [],
   "source": []
  }
 ],
 "metadata": {
  "kernelspec": {
   "display_name": "Python 2",
   "language": "python",
   "name": "python2"
  },
  "language_info": {
   "codemirror_mode": {
    "name": "ipython",
    "version": 2
   },
   "file_extension": ".py",
   "mimetype": "text/x-python",
   "name": "python",
   "nbconvert_exporter": "python",
   "pygments_lexer": "ipython2",
   "version": "2.7.10"
  }
 },
 "nbformat": 4,
 "nbformat_minor": 0
}
